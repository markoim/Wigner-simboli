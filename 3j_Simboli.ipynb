{
 "cells": [
  {
   "cell_type": "markdown",
   "metadata": {},
   "source": [
    "# 3j simboli"
   ]
  },
  {
   "cell_type": "code",
   "execution_count": 12,
   "metadata": {},
   "outputs": [],
   "source": [
    "import numpy as np\n",
    "from scipy.misc import factorial\n",
    "prec = np.float_\n",
    "ints = np.int_\n",
    "def D(a, b, c):\n",
    "    pr1   = factorial(np.array([a+b-c,\n",
    "                                b+c-a,\n",
    "                                a+c-b,\n",
    "                                a+b+c+1.],\n",
    "                               dtype=ints)).astype(prec)\n",
    "    prods = pr1\n",
    "    brojnik = np.prod(prods[0:3])\n",
    "    nazivnik = prods[3]\n",
    "    return brojnik/nazivnik\n",
    "def sqrs(a, b, c, d, e, f):\n",
    "    prods = np.prod(factorial(np.array(\n",
    "                               [a+d, a-d,\n",
    "                                b+e, b-e,\n",
    "                                c+f, c-f],\n",
    "                                dtype=ints))).astype(prec)\n",
    "    return np.sqrt(D(a, b, c)*prods)\n",
    "def subsum( a, b, c, d, e, f):\n",
    "    \n",
    "    maxval = np.max([a+b-c+1, a-d+1, b+e+1]) \n",
    "    minval = 0\n",
    "    allt   = np.arange(minval, maxval, dtype=ints)\n",
    "    arrays = np.array([[t,\n",
    "                     c-b+t+d,\n",
    "                     c-a+t-e,\n",
    "                     a+b-c-t,\n",
    "                     a-t-d,\n",
    "                     b-t+e ] for t in allt],\n",
    "                   dtype=ints)\n",
    "    \n",
    "    cut = np.logical_and.reduce(arrays>-1, axis=-1)    \n",
    "    arrays = arrays[cut]\n",
    "    if np.size(arrays)==0:\n",
    "        return 0.\n",
    "    ts = allt[cut]\n",
    "    prods = (-1)**ts/np.prod(factorial(\n",
    "        arrays, ), axis=1)#.astype(prec)\n",
    "    return np.sum(prods)\n",
    "def W3j(*args):\n",
    "    # Pravila 3j simbola\n",
    "    if np.abs(args[3])>np.abs(args[0]):\n",
    "        return 0.\n",
    "    if np.abs(args[4])>np.abs(args[1]):\n",
    "        return 0.\n",
    "    if np.abs(args[5])>np.abs(args[2]):\n",
    "        return 0.\n",
    "    if args[3]+args[4] +args[5]!=0:\n",
    "        return 0.\n",
    "    if np.abs(args[0]-args[1])>args[2]:\n",
    "        return 0.\n",
    "    if args[0]+args[1]<args[2]:\n",
    "        return 0.\n",
    "\n",
    "    return (-1)**np.abs(args[0]+args[1]-args[5])*\\\n",
    "            sqrs(*args)*subsum(*args)"
   ]
  },
  {
   "cell_type": "code",
   "execution_count": 2,
   "metadata": {},
   "outputs": [],
   "source": [
    "def test(kod, analiticko):\n",
    "    return np.abs(kod/analiticko-1)"
   ]
  },
  {
   "cell_type": "markdown",
   "metadata": {},
   "source": [
    "# Testiranje koristeći \n",
    "\\begin{equation}\n",
    "\\begin{pmatrix}\n",
    "j &0&j\\\\\n",
    "m& 0 &-m\n",
    "\\end{pmatrix}=\\frac{(-1)^{j+m}}{\\sqrt{2j+1}},\n",
    "\\end{equation}\n",
    "za $j\\in[0, 20\\rangle$ i $m\\in[0, 2j+1\\rangle$"
   ]
  },
  {
   "cell_type": "code",
   "execution_count": 3,
   "metadata": {},
   "outputs": [
    {
     "name": "stdout",
     "output_type": "stream",
     "text": [
      "Maksimalno relativno odstupanje 3.33066907388e-16\n"
     ]
    }
   ],
   "source": [
    "j=20\n",
    "js = np.arange(10, j)\n",
    "x=[test(W3j(jj, 0, jj, m, 0, -m), (-1)**(jj+m)/np.sqrt(2*jj+1)) \n",
    "   for jj in js\n",
    "  for m in np.arange(0, jj)]\n",
    "print('Maksimalno relativno odstupanje', np.max(x))"
   ]
  },
  {
   "cell_type": "markdown",
   "metadata": {},
   "source": [
    "# Testiranje koristeći \n",
    "\\begin{equation}\n",
    "\\begin{pmatrix}\n",
    "j &1&j\\\\\n",
    "-m& 0 &m\n",
    "\\end{pmatrix}=\\frac{(-1)^{j-m}m}{\\sqrt{j(2j+1)(j+1)}},\n",
    "\\end{equation}\n",
    "za $j\\in[0, 20\\rangle$ i $m\\in[0, 2j+1\\rangle$"
   ]
  },
  {
   "cell_type": "code",
   "execution_count": 4,
   "metadata": {},
   "outputs": [
    {
     "name": "stdout",
     "output_type": "stream",
     "text": [
      "Maksimalno relativno odstupanje 1.11022302463e-15\n"
     ]
    }
   ],
   "source": [
    "j=20\n",
    "js = np.arange(10, j)\n",
    "x=[test(W3j(jj, 1, jj, -m, 0, m), \n",
    "        (-1)**(jj-m)*m/np.sqrt(jj*(2*jj+1)*(jj+1)) )\n",
    "   for jj in js\n",
    "  for m in np.arange(1, jj)]\n",
    "print('Maksimalno relativno odstupanje', np.max(x))"
   ]
  },
  {
   "cell_type": "markdown",
   "metadata": {},
   "source": [
    "Poseban slučajevi su kada je $m=0$ te kada je $m_1\\neq m_2$\n",
    "\\begin{equation}\n",
    "\\begin{pmatrix}\n",
    "j &1&j\\\\\n",
    "-m_1& 0 &m_2\n",
    "\\end{pmatrix}=0,\n",
    "\\end{equation}\n",
    "za $m_1\\neq m_2$."
   ]
  },
  {
   "cell_type": "code",
   "execution_count": 5,
   "metadata": {},
   "outputs": [
    {
     "name": "stdout",
     "output_type": "stream",
     "text": [
      "Maksimalno odstupanje 0.0\n"
     ]
    }
   ],
   "source": [
    "j=20\n",
    "js = np.arange(10, j)\n",
    "x = [ W3j(jj, 1, jj, -m1, 0, m2) for jj in js \n",
    "    for m1 in np.arange(0, 2*jj+1) \n",
    "    for m2 in np.arange(0, 2*jj+1)\n",
    "    if m1==0 or m2==0 and m1!=m2]\n",
    "print('Maksimalno odstupanje', np.max(np.abs(x)))"
   ]
  },
  {
   "cell_type": "markdown",
   "metadata": {},
   "source": [
    "\\begin{equation}\n",
    "\\begin{pmatrix}\n",
    "j_1 &j_2&j_1+j_2\\\\\n",
    "j_1& j_2 &-(j_1+j_2)\n",
    "\\end{pmatrix}=\\frac{1}{\\sqrt{2(j_1+j_2)+1}},\n",
    "\\end{equation}"
   ]
  },
  {
   "cell_type": "code",
   "execution_count": 6,
   "metadata": {},
   "outputs": [
    {
     "name": "stdout",
     "output_type": "stream",
     "text": [
      "Maksimalno odstupanje 4.4408920985e-16\n"
     ]
    }
   ],
   "source": [
    "j=20\n",
    "js = np.arange(10, j)\n",
    "x = [test(W3j(j1, j2, j1+j2, j1, j2, -(j1+j2)), \n",
    "          1/np.sqrt(2*(j1+j2)+1)) for j1 in js \n",
    "    for j2 in js ]\n",
    "print('Maksimalno odstupanje', np.max(np.abs(x)))"
   ]
  },
  {
   "cell_type": "markdown",
   "metadata": {},
   "source": [
    "# Testiranje relacijom ortogonalnosti\n",
    "\\begin{equation}\n",
    "(2j_3+1)\\sum\\limits_{m_1\\in[-|j_1|,|j_1|]}\\sum\\limits_{m_2\\in[-|j_2|,|j_2|]}\\begin{pmatrix}\n",
    "j_1 &j_2&j_3\\\\\n",
    "m_1& m_2 & m_3\n",
    "\\end{pmatrix}\\begin{pmatrix}\n",
    "j_1 &j_2&j_3\\\\\n",
    "m_1& m_2 & m_3\n",
    "\\end{pmatrix}=1,\n",
    "\\end{equation}\n",
    "za različite $j_1$, $j_2$, $j_3$ i $m_3\\in[-|j_3|,|j_3|]$."
   ]
  },
  {
   "cell_type": "code",
   "execution_count": 15,
   "metadata": {},
   "outputs": [
    {
     "name": "stdout",
     "output_type": "stream",
     "text": [
      "Maksimalno odstupanje za j3= 10 je 3.5527136788e-15\n",
      "Maksimalno odstupanje za j3= 11 je 6.32827124036e-15\n",
      "Maksimalno odstupanje za j3= 12 je 8.65973959208e-15\n",
      "Maksimalno odstupanje za j3= 13 je 9.54791801178e-15\n",
      "Maksimalno odstupanje za j3= 14 je 1.31006316906e-14\n",
      "Maksimalno odstupanje za j3= 15 je 1.68753899743e-14\n",
      "Maksimalno odstupanje za j3= 16 je 2.70894418009e-14\n",
      "Maksimalno odstupanje za j3= 17 je 2.50910403565e-14\n",
      "Maksimalno odstupanje za j3= 18 je 2.91988655476e-14\n",
      "Maksimalno odstupanje za j3= 19 je 4.7517545454e-14\n"
     ]
    }
   ],
   "source": [
    "j=20\n",
    "js = np.arange(10, j)\n",
    "m3 = 0\n",
    "for j3 in js :\n",
    "    x=[np.sum([(2*j3+1)*W3j(j1, j2, j3, m1, m2, m3)**2\n",
    "            for m1 in range(-j1, j1+1)\n",
    "            for m2 in range(-j2, j2+1)])-1 \n",
    "        for j1 in js\n",
    "        for j2 in js\n",
    "        for m3 in np.arange(-np.abs(j3), np.abs(j3)+1)]\n",
    "    print('Maksimalno odstupanje za j3=',j3,\n",
    "          'je', np.max(np.abs(x)))"
   ]
  },
  {
   "cell_type": "code",
   "execution_count": null,
   "metadata": {
    "collapsed": true
   },
   "outputs": [],
   "source": []
  }
 ],
 "metadata": {
  "kernelspec": {
   "display_name": "Python 3",
   "language": "python",
   "name": "python3"
  },
  "language_info": {
   "codemirror_mode": {
    "name": "ipython",
    "version": 3
   },
   "file_extension": ".py",
   "mimetype": "text/x-python",
   "name": "python",
   "nbconvert_exporter": "python",
   "pygments_lexer": "ipython3",
   "version": "3.6.3"
  }
 },
 "nbformat": 4,
 "nbformat_minor": 2
}
