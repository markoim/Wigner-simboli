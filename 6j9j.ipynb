{
 "cells": [
  {
   "cell_type": "markdown",
   "metadata": {},
   "source": [
    "# Kod za 6j i 9j simbole\n",
    "Marko Imbrišak"
   ]
  },
  {
   "cell_type": "code",
   "execution_count": 1,
   "metadata": {
    "collapsed": true
   },
   "outputs": [],
   "source": [
    "from mpmath import mp\n",
    "import numpy as np\n",
    "from scipy.misc import factorial\n",
    "prec    = np.float_\n",
    "ints    = np.int_\n",
    "mp.dps  = 100\n",
    "mp.prec = 128\n",
    "def D(a, b, c):\n",
    "    return mp.factorial(a+b-c)*\\\n",
    "           mp.factorial(b+c-a)*\\\n",
    "           mp.factorial(a+c-b)/\\\n",
    "           mp.factorial(a+b+c+1.)\n",
    "    \n",
    "def sqrs(a, b, c, d, e, f):\n",
    "    prods = mp.factorial(a+d)*\\\n",
    "            mp.factorial(a-d)*\\\n",
    "            mp.factorial(b+e)*\\\n",
    "            mp.factorial(b-e)*\\\n",
    "            mp.factorial(c+f)*\\\n",
    "            mp.factorial(c-f)\n",
    "    return mp.sqrt(D(a, b, c)*prods)\n",
    "\n",
    "def element(a, t):\n",
    "    return (-1)**t/(mp.factorial(a[0])*\\\n",
    "                    mp.factorial(a[1])*\\\n",
    "                    mp.factorial(a[2])*\\\n",
    "                    mp.factorial(a[3])*\\\n",
    "                    mp.factorial(a[4])*\\\n",
    "                    mp.factorial(a[5]))\n",
    "\n",
    "def subsum(a, b, c, d, e, f):\n",
    "    \n",
    "    maxval = np.max([a+b-c+1, a-d+1, b+e+1]) \n",
    "    minval = 0\n",
    "    allt   = np.arange(minval, maxval+1)\n",
    "    arrays = np.array([[t,\n",
    "                     c-b+t+d,\n",
    "                     c-a+t-e,\n",
    "                     a+b-c-t,\n",
    "                     a-t-d,\n",
    "                     b-t+e ] for t in allt],dtype=prec)\n",
    "    cut = np.logical_and.reduce(arrays>-1, axis=-1)    \n",
    "    arrays = arrays[cut]\n",
    "    if np.size(arrays)==0:\n",
    "        return 0.\n",
    "    ts = allt[cut]\n",
    "    \n",
    "    return mp.fsum([element(arrays[i], ts[i])\n",
    "                    for i in range(len(ts))])\n",
    "\n",
    "def triangle(j1, j2, j3):\n",
    "    if np.abs(j1-j2)>j3:\n",
    "        return False\n",
    "    if j1+j2<j3:\n",
    "        return False\n",
    "    return True\n",
    "\n",
    "def test(kod, analiticko):\n",
    "    return np.abs(np.abs(kod/analiticko)-1)\n",
    "\n",
    "def pravila(*args, verbose=False):\n",
    "    # Pravila 3j simbola\n",
    "    if verbose:\n",
    "        print('W3j:',args)\n",
    "    if np.abs(args[3])> args[0]:\n",
    "        if verbose:\n",
    "            print('4,1', args[3], args[0])\n",
    "        return False\n",
    "    if np.abs(args[4])> args[1]:\n",
    "        if verbose:\n",
    "            print('5,2', args[4], args[1])\n",
    "        return False\n",
    "    if np.abs(args[5])> args[2]:\n",
    "        if verbose:\n",
    "            print('6,3', args[5], args[2])\n",
    "        return False\n",
    "    \n",
    "    if np.abs(args[3]+args[4]+args[5])>0.0001:\n",
    "        if verbose:\n",
    "            print('suma', args[3]+args[4] +args[5])\n",
    "        return False\n",
    "    if not triangle(args[0], args[1], args[2]):\n",
    "        if verbose:\n",
    "            print('trokut', args[0], args[1], args[2] )\n",
    "        return False\n",
    "    if not triangle(args[0], args[2], args[1]):\n",
    "        if verbose:\n",
    "            print('trokut', args[0], args[2], args[1] )\n",
    "        return False\n",
    "    if not triangle(args[1], args[0], args[2]):\n",
    "        if verbose:\n",
    "            print('trokut', args[1], args[0], args[2] )\n",
    "        return False\n",
    "    if not triangle(args[1], args[2], args[0]):\n",
    "        if verbose:\n",
    "            print('trokut', args[1], args[2], args[0] )\n",
    "        return False\n",
    "    if not triangle(args[2], args[1], args[0]):\n",
    "        if verbose:\n",
    "            print('trokut', args[2], args[1], args[0] )\n",
    "        return False\n",
    "    if not triangle(args[2], args[0], args[1]):\n",
    "        if verbose:\n",
    "            print('trokut', args[2], args[0], args[1] )\n",
    "        return False\n",
    "    return True\n",
    "\n",
    "def pravila_6j(j1, j2, j3, j4, j5, j6, \n",
    "               m1, m2, m3, m4, m5, m6,\n",
    "               verbose=False):\n",
    "    return pravila(j1, j2, j3,-m1,-m2,-m3, verbose=verbose) and\\\n",
    "           pravila(j1, j5, j6, m1,-m5, m6, verbose=verbose) and\\\n",
    "           pravila(j4, j2, j6, m4, m2,-m6, verbose=verbose) and\\\n",
    "           pravila(j4, j5, j3,-m4, m5, m3, verbose=verbose)\n",
    "\n",
    "def pravila_W6j(j1, j2, j3, j4, j5, j6, verbose=False):\n",
    "    return np.logical_or.reduce(\n",
    "        [pravila_6j(j1, j2, j3, j4, j5, j6, \n",
    "                    m1, m2, m3, m4, m5, m6)\n",
    "    for m1 in mp.arange(-abs(j1), abs(j1)+1)\n",
    "    for m2 in mp.arange(-abs(j2), abs(j2)+1)\n",
    "    for m3 in mp.arange(-abs(j3), abs(j3)+1)\n",
    "    for m4 in mp.arange(-abs(j4), abs(j4)+1)\n",
    "    for m5 in mp.arange(-abs(j5), abs(j5)+1)\n",
    "    for m6 in mp.arange(-abs(j6), abs(j6)+1)])\n",
    "\n",
    "def W3j(*args, verbose=False):\n",
    "    if not pravila(*args, verbose=verbose):\n",
    "        return 0.\n",
    "    return (-1)**np.abs(args[0]+args[1]-args[5])*\\\n",
    "            sqrs(*args)*subsum(*args)\n",
    "\n",
    "def W6j(j1, j2, j3, j4, j5, j6, verbose=False):\n",
    "\n",
    "    return mp.fsum(\n",
    "        [(-1)**(j4+j5+j6-m4-m5-m6)*\\\n",
    "         W3j(j1, j2, j3,-m1,-m2,-m3, verbose=verbose)*\\\n",
    "         W3j(j1, j5, j6, m1,-m5, m6, verbose=verbose)*\\\n",
    "         W3j(j4, j2, j6, m4, m2,-m6, verbose=verbose)*\\\n",
    "         W3j(j4, j5, j3,-m4, m5, m3, verbose=verbose)\\\n",
    "    for m1 in mp.arange(-abs(j1), abs(j1)+1)\n",
    "    for m2 in mp.arange(-abs(j2), abs(j2)+1)\n",
    "    for m3 in mp.arange(-abs(j3), abs(j3)+1)\n",
    "    for m4 in mp.arange(-abs(j4), abs(j4)+1)\n",
    "    for m5 in mp.arange(-abs(j5), abs(j5)+1)\n",
    "    for m6 in mp.arange(-abs(j6), abs(j6)+1)\n",
    "    if pravila_6j(j1, j2, j3, j4, j5, j6,\n",
    "                  m1, m2, m3, m4, m5, m6)])\n",
    "\n",
    "def pravila_9j(j11, j12, j13, \n",
    "               j21, j22, j23,\n",
    "               j31, j32, j33,\n",
    "               j, verbose=False):\n",
    "    return pravila_W6j(j11, j21, j31, j32, j33, j  ) and\\\n",
    "           pravila_W6j(j12, j22, j32, j21, j,   j23) and\\\n",
    "           pravila_W6j(j13, j23, j33, j,   j11, j12) \n",
    "\n",
    "def pravila_W9j(j11, j12, j13,\n",
    "                j21, j22, j23,\n",
    "                j31, j32, j33,\n",
    "                verbose=False):\n",
    "    jmin = np.max(np.abs([j12-j23, j11-j33, j21-j32]))\n",
    "    jmax = np.min(np.abs([j12+j23, j11+j33, j21+j32]))\n",
    "    return np.logical_or.reduce(\n",
    "        [pravila_9j(j11, j12, j13,\n",
    "                    j21, j22, j23,\n",
    "                    j31, j32, j33,\n",
    "                    j, verbose=verbose)\n",
    "        for j in range(jmin, jmax+1)\n",
    "        ])    \n",
    "\n",
    "def W9j(j11, j12, j13,\n",
    "        j21, j22, j23,\n",
    "        j31, j32, j33,\n",
    "        verbose=False):\n",
    "    \n",
    "    jmin = np.max(np.abs([j12-j23, j11-j33, j21-j32]))\n",
    "    jmax = np.min(np.abs([j12+j23, j11+j33, j21+j32]))\n",
    "    return mp.fsum([(-1)**(2*j)*(2*j+1)*\\\n",
    "                   W6j(j11, j21, j31, j32, j33, j)*\\\n",
    "                   W6j(j12, j22, j32, j21, j, j23)*\\\n",
    "                   W6j(j13, j23, j33, j, j11, j12) \n",
    "                   for j in range(jmin, jmax+1)\n",
    "                   if pravila_9j(j11, j12, j13,\n",
    "                                 j21, j22, j23,\n",
    "                                 j31, j32, j33,\n",
    "                                 j, verbose=verbose)\n",
    "                   ])"
   ]
  },
  {
   "cell_type": "markdown",
   "metadata": {},
   "source": [
    "# Testovi 6j simbola"
   ]
  },
  {
   "cell_type": "markdown",
   "metadata": {},
   "source": [
    "## 1. \n",
    "\\begin{equation}\n",
    "\\begin{Bmatrix}\n",
    "1/2& 1/2 & 1\\\\\n",
    "1/2 & 1/2 & 1\n",
    "\\end{Bmatrix}=\\frac{1}{6}\n",
    "\\end{equation}"
   ]
  },
  {
   "cell_type": "code",
   "execution_count": 2,
   "metadata": {
    "collapsed": false
   },
   "outputs": [
    {
     "data": {
      "text/plain": [
       "mpf('2.9387358770557187699218413430556141945467e-39')"
      ]
     },
     "execution_count": 2,
     "metadata": {},
     "output_type": "execute_result"
    }
   ],
   "source": [
    "test(W6j(0.5,0.5,1.,0.5,0.5,1.),1/mp.mpf(6.))"
   ]
  },
  {
   "cell_type": "markdown",
   "metadata": {},
   "source": [
    "## 2.\n",
    "\\begin{equation}\n",
    "\\begin{Bmatrix}\n",
    "j_1 & j_2 & j_3\\\\\n",
    "0 & j_3 & j_2\n",
    "\\end{Bmatrix}=\\frac{(-1)^{j_1+j_2+j_3}}{\\sqrt{(2j_2+1)(2j_3+1)}}\n",
    "\\end{equation}"
   ]
  },
  {
   "cell_type": "code",
   "execution_count": 3,
   "metadata": {
    "collapsed": false
   },
   "outputs": [
    {
     "name": "stdout",
     "output_type": "stream",
     "text": [
      "Maksimalno relativno odstupanje 1.1754943508222875079687365372222456778e-38\n"
     ]
    }
   ],
   "source": [
    "J=3\n",
    "odstupanja = [test(W6j(j_1, j_2, j_3, 0, j_3, j_2),\n",
    "          (-1)**(j_1+j_2+j_3)/mp.sqrt((2*j_2+1)*(2*j_3+1)))\n",
    "     for j_1 in range(J)\n",
    "     for j_2 in range(J)\n",
    "     for j_3 in range(J) \n",
    "     if pravila_W6j(j_1, j_2, j_3, 0, j_3, j_2)]\n",
    "\n",
    "print('Maksimalno relativno odstupanje',np.max(odstupanja))"
   ]
  },
  {
   "cell_type": "markdown",
   "metadata": {},
   "source": [
    "## 3.\n",
    "\\begin{equation}\n",
    "\\begin{Bmatrix}\n",
    "j_1 & j_2 & j_3\\\\\n",
    "1/2 & j_3-1/2 & j_2+1/2\n",
    "\\end{Bmatrix}=(-1)^{j_1+j_2+j_3}\\sqrt{\\frac{(j_1+j_3-j_2)(j_1+j_2-j_3+1)}{(2j_2+1)(2j_2+2)2j_3(2j_3+1)}}\n",
    "\\end{equation}"
   ]
  },
  {
   "cell_type": "code",
   "execution_count": 4,
   "metadata": {
    "collapsed": false
   },
   "outputs": [
    {
     "name": "stdout",
     "output_type": "stream",
     "text": [
      "Maksimalno relativno odstupanje 1.1754943508222875079687365372222456778e-38\n"
     ]
    }
   ],
   "source": [
    "J=3\n",
    "print('Maksimalno relativno odstupanje',np.max(\n",
    "    [test(W6j(j_1, j_2, j_3, .5, j_3-.5, j_2+.5),\n",
    "          (-1)**(j_1+j_2+j_3)*\\\n",
    "          mp.sqrt((j_1+j_3-j_2)*(j_1+j_2-j_3+1))/\\\n",
    "          mp.sqrt((2*j_2+1)*(2*j_2+2)*2*j_3*(2*j_3+1)))\n",
    "     for j_1 in range(J)\n",
    "     for j_2 in range(J)\n",
    "     for j_3 in range(1,J) \n",
    "     if pravila_W6j(j_1, j_2, j_3, .5, j_3-.5, j_2+.5)\n",
    "]))"
   ]
  },
  {
   "cell_type": "markdown",
   "metadata": {},
   "source": [
    "# 9j simboli"
   ]
  },
  {
   "cell_type": "markdown",
   "metadata": {},
   "source": [
    "\\begin{equation}\n",
    "\\begin{Bmatrix}\n",
    "j_{11} & j_{12} & j_{13}\\\\\n",
    "j_{21} & j_{22} & j_{23}\\\\\n",
    "j_{31} & j_{31} & 0\n",
    "\\end{Bmatrix}=\\frac{(-1)^{j_{12}+j_{21}+j_{13}+j_{31}}}{\\sqrt{(2j_{13}+1)(2j_{31}+1)}}\\begin{Bmatrix}j_{11}&j_{12} & j_{13}\\\\\n",
    "j_{22} & j_{21} & j_{31}\\end{Bmatrix}\n",
    "\\end{equation}"
   ]
  },
  {
   "cell_type": "code",
   "execution_count": 5,
   "metadata": {
    "collapsed": false
   },
   "outputs": [
    {
     "name": "stdout",
     "output_type": "stream",
     "text": [
      "Maksimalno relativno odstupanje 1.1754943508222875079687365372222456778e-38\n"
     ]
    }
   ],
   "source": [
    "Jmin= -4\n",
    "Jmax = 4\n",
    "def omjer(j11, j12, j13,\n",
    "          j21, j22, j23,\n",
    "          j31, j32, j33):\n",
    "    return test(W9j(j11, j12, j13,\n",
    "                    j21, j22, j23,\n",
    "                    j31, j32, j33), \n",
    "                 (-1)**np.abs(j12+j21+j13+j31)/\\\n",
    "                 mp.sqrt((2*j13+1)*(2*j31+1))*\\\n",
    "                 W6j(j11, j12, j13, j22, j21, j31))\n",
    "lista = zip(*(7*[range(Jmin, Jmax)]))\n",
    "print('Maksimalno relativno odstupanje',\n",
    "      np.max([omjer(*l, l[-1], 0)\n",
    "              for l in lista\n",
    "              if pravila_W9j(*l, l[-1], 0)]))"
   ]
  }
 ],
 "metadata": {
  "anaconda-cloud": {},
  "kernelspec": {
   "display_name": "Python [Root]",
   "language": "python",
   "name": "Python [Root]"
  },
  "language_info": {
   "codemirror_mode": {
    "name": "ipython",
    "version": 2
   },
   "file_extension": ".py",
   "mimetype": "text/x-python",
   "name": "python",
   "nbconvert_exporter": "python",
   "pygments_lexer": "ipython2",
   "version": "2.7.12"
  }
 },
 "nbformat": 4,
 "nbformat_minor": 2
}
